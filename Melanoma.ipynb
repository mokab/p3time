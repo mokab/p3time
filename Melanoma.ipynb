{
 "cells": [
  {
   "cell_type": "markdown",
   "id": "1454332e",
   "metadata": {},
   "source": [
    "# Melanoma data analysis using p3time\n",
    "\n",
    "The original count data is available at Gene Expression Omnibus: [GSE72056](https://www.ncbi.nlm.nih.gov/geo/query/acc.cgi?acc=GSE72056)."
   ]
  },
  {
   "cell_type": "markdown",
   "id": "314d98bd",
   "metadata": {},
   "source": [
    "## Decompress the compressed data files\n",
    "\n",
    "May be ignored if already done so. \n",
    "Either way, you should have a named file `GSE72056_melanoma_single_cell_revised_v2.txt`."
   ]
  },
  {
   "cell_type": "code",
   "execution_count": 1,
   "id": "a3dc54fd",
   "metadata": {},
   "outputs": [],
   "source": [
    "!gzip -d GSE72056_melanoma_single_cell_revised_v2.txt.gz"
   ]
  },
  {
   "cell_type": "markdown",
   "id": "9dd53380",
   "metadata": {},
   "source": [
    "## Import necessary packages"
   ]
  },
  {
   "cell_type": "code",
   "execution_count": 2,
   "id": "93fc4ec3",
   "metadata": {},
   "outputs": [],
   "source": [
    "import p3time"
   ]
  },
  {
   "cell_type": "code",
   "execution_count": 3,
   "id": "473d508a",
   "metadata": {},
   "outputs": [],
   "source": [
    "import pandas as pd\n",
    "import numpy as np\n",
    "import matplotlib.pyplot as plt\n",
    "import seaborn as sns\n",
    "import torch\n",
    "from sklearn import preprocessing"
   ]
  },
  {
   "cell_type": "markdown",
   "id": "21f4c1f3",
   "metadata": {},
   "source": [
    "## Read data"
   ]
  },
  {
   "cell_type": "code",
   "execution_count": 4,
   "id": "02412d2c",
   "metadata": {},
   "outputs": [],
   "source": [
    "GSE72056 = pd.read_csv('./GSE72056_melanoma_single_cell_revised_v2.txt', sep='\\t', index_col=0).T\n",
    "expression_matrix = GSE72056.iloc[:, 3:]\n",
    "cell_metadata = GSE72056.iloc[:, :3]"
   ]
  },
  {
   "cell_type": "code",
   "execution_count": 5,
   "id": "95518ae6",
   "metadata": {},
   "outputs": [],
   "source": [
    "meladata = pd.DataFrame(preprocessing.scale(np.log2(expression_matrix + 1)), \\\n",
    "                        index = expression_matrix.index, columns=expression_matrix.columns)"
   ]
  },
  {
   "cell_type": "code",
   "execution_count": 6,
   "id": "9c3248c4",
   "metadata": {},
   "outputs": [],
   "source": [
    "X = torch.tensor(np.array(meladata))\n",
    "n, p = X.shape"
   ]
  },
  {
   "cell_type": "markdown",
   "id": "5bae9655",
   "metadata": {},
   "source": [
    "We require cells to be rows."
   ]
  },
  {
   "attachments": {},
   "cell_type": "markdown",
   "id": "a7d73806",
   "metadata": {},
   "source": [
    "## Set up the model and fit the model\n",
    "\n",
    "Here we create a p3time object.\n",
    "First, we assign the parameter `size`, which denotes the number of genes. "
   ]
  },
  {
   "cell_type": "code",
   "execution_count": 7,
   "id": "0ff0db56",
   "metadata": {},
   "outputs": [],
   "source": [
    "p3 = p3time.p3time(size = p, steps = 500, n_term = 1, lambdap = 1e-6, lambdae = 1e-5, lambdad = 1e-6, device = \"cuda\", verbose=100)"
   ]
  },
  {
   "cell_type": "code",
   "execution_count": 8,
   "id": "b8e118d9",
   "metadata": {},
   "outputs": [
    {
     "name": "stdout",
     "output_type": "stream",
     "text": [
      "Iter 0. Loss 0.7320927381515503\n",
      "Iter 100. Loss 1.1105377674102783\n",
      "Iter 200. Loss 1.8219441175460815\n",
      "Iter 300. Loss 0.9889146685600281\n",
      "Iter 400. Loss 0.7970786690711975\n"
     ]
    }
   ],
   "source": [
    "p3.fit(X)"
   ]
  },
  {
   "cell_type": "markdown",
   "id": "6c7b0596",
   "metadata": {},
   "source": [
    "## Predict pseudotime"
   ]
  },
  {
   "cell_type": "code",
   "execution_count": 9,
   "id": "ef32dd62",
   "metadata": {},
   "outputs": [],
   "source": [
    "pseudotime = p3.predict_pseudotime(X)"
   ]
  },
  {
   "cell_type": "markdown",
   "id": "ec78e17f",
   "metadata": {},
   "source": [
    "## Illustration"
   ]
  },
  {
   "cell_type": "code",
   "execution_count": 10,
   "id": "e0a147bb",
   "metadata": {},
   "outputs": [
    {
     "data": {
      "text/plain": [
       "Text(0.5, 0, 'pseudotime')"
      ]
     },
     "execution_count": 10,
     "metadata": {},
     "output_type": "execute_result"
    },
    {
     "data": {
      "image/png": "[encoded data removed]",
      "text/plain": [
       "<Figure size 432x288 with 1 Axes>"
      ]
     },
     "metadata": {
      "needs_background": "light"
     },
     "output_type": "display_data"
    }
   ],
   "source": [
    "label = {0:\"unresolved\", 1:\"non-malignant\",2:\"malignant\"}\n",
    "\n",
    "fig, ax = plt.subplots()\n",
    "plt.title(f\"Distribution of cell types\")\n",
    "for i in cell_metadata['malignant(1=no,2=yes,0=unresolved)'].unique():\n",
    "    sns.kdeplot(\n",
    "        pseudotime[cell_metadata['malignant(1=no,2=yes,0=unresolved)'] == int(i)], label='%s'%label[i]\n",
    "    )\n",
    "plt.legend()\n",
    "ax.set_xlabel('pseudotime')"
   ]
  },
  {
   "cell_type": "markdown",
   "id": "20a2ea05",
   "metadata": {},
   "source": [
    "## Save a model"
   ]
  },
  {
   "cell_type": "code",
   "execution_count": 11,
   "id": "38ca74f5",
   "metadata": {},
   "outputs": [],
   "source": [
    "p3.save_model('p3time_melanoma.pt')"
   ]
  },
  {
   "cell_type": "markdown",
   "id": "396ccf18",
   "metadata": {},
   "source": [
    "## Load a trained model"
   ]
  },
  {
   "cell_type": "code",
   "execution_count": 12,
   "id": "2fb45ae1",
   "metadata": {},
   "outputs": [],
   "source": [
    "p3.load_model('./trained_mdoel/melanoma.pt')"
   ]
  }
 ],
 "metadata": {
  "kernelspec": {
   "display_name": "Python 3",
   "language": "python",
   "name": "python3"
  },
  "language_info": {
   "codemirror_mode": {
    "name": "ipython",
    "version": 3
   },
   "file_extension": ".py",
   "mimetype": "text/x-python",
   "name": "python",
   "nbconvert_exporter": "python",
   "pygments_lexer": "ipython3",
   "version": "3.8.1"
  }
 },
 "nbformat": 4,
 "nbformat_minor": 5
}
